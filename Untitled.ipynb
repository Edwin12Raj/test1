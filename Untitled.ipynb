{
 "cells": [
  {
   "cell_type": "code",
   "execution_count": 4,
   "metadata": {},
   "outputs": [
    {
     "name": "stdout",
     "output_type": "stream",
     "text": [
      "Hi EDwin\n"
     ]
    }
   ],
   "source": [
    "def func(a):\n",
    "    print(\"Hi \" +str(a))\n",
    "func(\"EDwin\")\n",
    "    "
   ]
  },
  {
   "cell_type": "code",
   "execution_count": 7,
   "metadata": {},
   "outputs": [
    {
     "name": "stdout",
     "output_type": "stream",
     "text": [
      "1009\n"
     ]
    }
   ],
   "source": [
    "def add1(b,c=10):\n",
    "    print(b+c)\n",
    "add1(999)"
   ]
  },
  {
   "cell_type": "code",
   "execution_count": 19,
   "metadata": {},
   "outputs": [
    {
     "name": "stdout",
     "output_type": "stream",
     "text": [
      "5is not a prime no.\n"
     ]
    }
   ],
   "source": [
    "def prime(a):\n",
    "    s=True\n",
    "    for i in range(2,a):\n",
    "        if a%i==0:\n",
    "            s=False\n",
    "    if not s:\n",
    "        pass\n",
    "    else:\n",
    "        print(str(a)  + \"is not a prime no.\")\n",
    "prime(5)"
   ]
  },
  {
   "cell_type": "code",
   "execution_count": 1,
   "metadata": {},
   "outputs": [
    {
     "ename": "NameError",
     "evalue": "name 'prime' is not defined",
     "output_type": "error",
     "traceback": [
      "\u001b[1;31m---------------------------------------------------------------------------\u001b[0m",
      "\u001b[1;31mNameError\u001b[0m                                 Traceback (most recent call last)",
      "\u001b[1;32m<ipython-input-1-7d69da1171d8>\u001b[0m in \u001b[0;36m<module>\u001b[1;34m\u001b[0m\n\u001b[0;32m      1\u001b[0m \u001b[1;32mfor\u001b[0m \u001b[0mi\u001b[0m \u001b[1;32min\u001b[0m \u001b[0mrange\u001b[0m\u001b[1;33m(\u001b[0m\u001b[1;36m1\u001b[0m\u001b[1;33m,\u001b[0m\u001b[1;36m500\u001b[0m\u001b[1;33m)\u001b[0m\u001b[1;33m:\u001b[0m\u001b[1;33m\u001b[0m\u001b[1;33m\u001b[0m\u001b[0m\n\u001b[1;32m----> 2\u001b[1;33m     \u001b[0mprime\u001b[0m\u001b[1;33m(\u001b[0m\u001b[0mi\u001b[0m\u001b[1;33m)\u001b[0m\u001b[1;33m\u001b[0m\u001b[1;33m\u001b[0m\u001b[0m\n\u001b[0m",
      "\u001b[1;31mNameError\u001b[0m: name 'prime' is not defined"
     ]
    }
   ],
   "source": [
    "for i in range(1,500):\n",
    "    prime(i)"
   ]
  },
  {
   "cell_type": "code",
   "execution_count": 22,
   "metadata": {},
   "outputs": [
    {
     "name": "stdout",
     "output_type": "stream",
     "text": [
      "1is not a prime no.\n",
      "2is not a prime no.\n",
      "3is not a prime no.\n",
      "5is not a prime no.\n",
      "7is not a prime no.\n",
      "11is not a prime no.\n",
      "13is not a prime no.\n",
      "17is not a prime no.\n",
      "19is not a prime no.\n",
      "23is not a prime no.\n",
      "29is not a prime no.\n",
      "31is not a prime no.\n",
      "37is not a prime no.\n",
      "41is not a prime no.\n",
      "43is not a prime no.\n",
      "47is not a prime no.\n",
      "53is not a prime no.\n",
      "59is not a prime no.\n",
      "61is not a prime no.\n",
      "67is not a prime no.\n",
      "71is not a prime no.\n",
      "73is not a prime no.\n",
      "79is not a prime no.\n",
      "83is not a prime no.\n",
      "89is not a prime no.\n",
      "97is not a prime no.\n",
      "101is not a prime no.\n",
      "103is not a prime no.\n",
      "107is not a prime no.\n",
      "109is not a prime no.\n",
      "113is not a prime no.\n",
      "127is not a prime no.\n",
      "131is not a prime no.\n",
      "137is not a prime no.\n",
      "139is not a prime no.\n",
      "149is not a prime no.\n",
      "151is not a prime no.\n",
      "157is not a prime no.\n",
      "163is not a prime no.\n",
      "167is not a prime no.\n",
      "173is not a prime no.\n",
      "179is not a prime no.\n",
      "181is not a prime no.\n",
      "191is not a prime no.\n",
      "193is not a prime no.\n",
      "197is not a prime no.\n",
      "199is not a prime no.\n",
      "211is not a prime no.\n",
      "223is not a prime no.\n",
      "227is not a prime no.\n",
      "229is not a prime no.\n",
      "233is not a prime no.\n",
      "239is not a prime no.\n",
      "241is not a prime no.\n",
      "251is not a prime no.\n",
      "257is not a prime no.\n",
      "263is not a prime no.\n",
      "269is not a prime no.\n",
      "271is not a prime no.\n",
      "277is not a prime no.\n",
      "281is not a prime no.\n",
      "283is not a prime no.\n",
      "293is not a prime no.\n",
      "307is not a prime no.\n",
      "311is not a prime no.\n",
      "313is not a prime no.\n",
      "317is not a prime no.\n",
      "331is not a prime no.\n",
      "337is not a prime no.\n",
      "347is not a prime no.\n",
      "349is not a prime no.\n",
      "353is not a prime no.\n",
      "359is not a prime no.\n",
      "367is not a prime no.\n",
      "373is not a prime no.\n",
      "379is not a prime no.\n",
      "383is not a prime no.\n",
      "389is not a prime no.\n",
      "397is not a prime no.\n",
      "401is not a prime no.\n",
      "409is not a prime no.\n",
      "419is not a prime no.\n",
      "421is not a prime no.\n",
      "431is not a prime no.\n",
      "433is not a prime no.\n",
      "439is not a prime no.\n",
      "443is not a prime no.\n",
      "449is not a prime no.\n",
      "457is not a prime no.\n",
      "461is not a prime no.\n",
      "463is not a prime no.\n",
      "467is not a prime no.\n",
      "479is not a prime no.\n",
      "487is not a prime no.\n",
      "491is not a prime no.\n",
      "499is not a prime no.\n"
     ]
    }
   ],
   "source": [
    "a=1\n",
    "b=500\n",
    "while a<b:\n",
    "    prime(a)\n",
    "    a=a+1"
   ]
  }
 ],
 "metadata": {
  "kernelspec": {
   "display_name": "Python 3",
   "language": "python",
   "name": "python3"
  },
  "language_info": {
   "codemirror_mode": {
    "name": "ipython",
    "version": 3
   },
   "file_extension": ".py",
   "mimetype": "text/x-python",
   "name": "python",
   "nbconvert_exporter": "python",
   "pygments_lexer": "ipython3",
   "version": "3.8.3"
  }
 },
 "nbformat": 4,
 "nbformat_minor": 4
}
